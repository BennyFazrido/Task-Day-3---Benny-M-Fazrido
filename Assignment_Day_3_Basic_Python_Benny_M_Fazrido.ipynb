{
  "nbformat": 4,
  "nbformat_minor": 0,
  "metadata": {
    "colab": {
      "name": "Assignment Day 3 - Basic Python - Benny M Fazrido",
      "provenance": [],
      "authorship_tag": "ABX9TyP0kK5xUeb0npn5SOlRxF7g",
      "include_colab_link": true
    },
    "kernelspec": {
      "name": "python3",
      "display_name": "Python 3"
    },
    "language_info": {
      "name": "python"
    }
  },
  "cells": [
    {
      "cell_type": "markdown",
      "metadata": {
        "id": "view-in-github",
        "colab_type": "text"
      },
      "source": [
        "<a href=\"https://colab.research.google.com/github/BennyFazrido/Task-Day-3---Benny-M-Fazrido/blob/main/Assignment_Day_3_Basic_Python_Benny_M_Fazrido.ipynb\" target=\"_parent\"><img src=\"https://colab.research.google.com/assets/colab-badge.svg\" alt=\"Open In Colab\"/></a>"
      ]
    },
    {
      "cell_type": "markdown",
      "source": [
        "## **Basic Python**"
      ],
      "metadata": {
        "id": "DABKEUph6mg7"
      }
    },
    {
      "cell_type": "markdown",
      "source": [
        "# **1**"
      ],
      "metadata": {
        "id": "mUVWa3UPQJek"
      }
    },
    {
      "cell_type": "code",
      "source": [
        "print (\"Hi Benny, keep learning\")"
      ],
      "metadata": {
        "colab": {
          "base_uri": "https://localhost:8080/"
        },
        "id": "7nMLB2iZ7F7p",
        "outputId": "2ff99cb8-4594-4905-dd06-ba6f049f2549"
      },
      "execution_count": null,
      "outputs": [
        {
          "output_type": "stream",
          "name": "stdout",
          "text": [
            "Hi Benny, keep learning\n"
          ]
        }
      ]
    },
    {
      "cell_type": "markdown",
      "source": [
        "# **2**"
      ],
      "metadata": {
        "id": "z6MzyVeUQO5e"
      }
    },
    {
      "cell_type": "code",
      "source": [
        "p = input('Panjang ')\n",
        "l = input('Lebar ')\n",
        "print ('Luas dalam meter', int(p)*int(l))\n",
        "print ('Luas dalam hektar', int(p)*int(l)/100)\n"
      ],
      "metadata": {
        "id": "0SSiKJGE7cpZ",
        "colab": {
          "base_uri": "https://localhost:8080/"
        },
        "outputId": "08b54db6-7ce9-421d-aa92-f11ea278a45e"
      },
      "execution_count": null,
      "outputs": [
        {
          "output_type": "stream",
          "name": "stdout",
          "text": [
            "Panjang 10\n",
            "Lebar 20\n",
            "Luas dalam meter 200\n",
            "Luas dalam hektar 2.0\n"
          ]
        }
      ]
    },
    {
      "cell_type": "markdown",
      "source": [
        "# **3**"
      ],
      "metadata": {
        "id": "iWHjtM4_8aqY"
      }
    },
    {
      "cell_type": "code",
      "source": [
        "n = input ('masukkan angka ')\n",
        "list (range(int(n)))\n",
        "print (sum(range(int(n))))"
      ],
      "metadata": {
        "colab": {
          "base_uri": "https://localhost:8080/"
        },
        "id": "TRKEMuE-8drO",
        "outputId": "599d83dc-0e7b-4b4c-c048-7caf264ac956"
      },
      "execution_count": 145,
      "outputs": [
        {
          "output_type": "stream",
          "name": "stdout",
          "text": [
            "masukkan angka 10\n",
            "45\n"
          ]
        }
      ]
    },
    {
      "cell_type": "markdown",
      "source": [
        "# **4**\n",
        "## **a.** dengan rumus (alas x tinggi)/2"
      ],
      "metadata": {
        "id": "qzbYPQItVWUW"
      }
    },
    {
      "cell_type": "code",
      "source": [
        "a = input('alas ')\n",
        "t = input('tinggi ')\n",
        "print ('Luas segitiga', int(a) * int(t)/2)"
      ],
      "metadata": {
        "colab": {
          "base_uri": "https://localhost:8080/"
        },
        "id": "GHdNHPcsQEje",
        "outputId": "60a4567f-366e-49ac-9df6-6fb1d7a91ff2"
      },
      "execution_count": null,
      "outputs": [
        {
          "output_type": "stream",
          "name": "stdout",
          "text": [
            "alas 8\n",
            "tinggi 10\n",
            "Luas segitiga 40.0\n"
          ]
        }
      ]
    },
    {
      "cell_type": "markdown",
      "source": [
        "## b. dengan rumus heron (a+b+c)/2"
      ],
      "metadata": {
        "id": "nUlZnQ4QXiLz"
      }
    },
    {
      "cell_type": "code",
      "source": [
        "a = input ('panjang sisi A ')\n",
        "b = input ('panjang sisi B ')\n",
        "c = input ('panjang sisi C ')\n",
        "print ('Luas segitiga', (int(a) + int(b) + int(c))/2)"
      ],
      "metadata": {
        "colab": {
          "base_uri": "https://localhost:8080/"
        },
        "id": "PRxSXcnTXxIj",
        "outputId": "0766a581-843a-4762-de97-03103e434306"
      },
      "execution_count": null,
      "outputs": [
        {
          "output_type": "stream",
          "name": "stdout",
          "text": [
            "panjang sisi A 6\n",
            "panjang sisi B 8\n",
            "panjang sisi C 16\n",
            "Luas segitiga 15.0\n"
          ]
        }
      ]
    },
    {
      "cell_type": "markdown",
      "source": [
        "# **5**"
      ],
      "metadata": {
        "id": "vWUdnbqDZAwb"
      }
    },
    {
      "cell_type": "code",
      "source": [
        "magnitude = int (input('magnitude '))\n",
        "if magnitude <=2:\n",
        "    print (\"Micro\")\n",
        "elif magnitude <=3.9:\n",
        "    print (\"Minor\")\n",
        "elif magnitude <=4.9:\n",
        "    print(\"light\")\n",
        "elif magnitude <=5.9:\n",
        "    print(\"Moderate\")\n",
        "elif magnitude <=6.9:\n",
        "    print(\"Strong\")\n",
        "elif magnitude <=7.9:\n",
        "    print(\"Major\")\n",
        "elif magnitude <=9.9:\n",
        "    print(\"Great\")\n",
        "else:\n",
        "    print(\"Massive\")"
      ],
      "metadata": {
        "colab": {
          "base_uri": "https://localhost:8080/"
        },
        "id": "B-p8OArfZEOD",
        "outputId": "b9f681ab-385b-4185-b931-892e57fd8d37"
      },
      "execution_count": null,
      "outputs": [
        {
          "output_type": "stream",
          "name": "stdout",
          "text": [
            "magnitude 5\n",
            "Moderate\n"
          ]
        }
      ]
    }
  ]
}